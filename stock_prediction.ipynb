{
  "nbformat": 4,
  "nbformat_minor": 0,
  "metadata": {
    "colab": {
      "name": "stock prediction.ipynb",
      "provenance": [],
      "collapsed_sections": []
    },
    "kernelspec": {
      "name": "python3",
      "display_name": "Python 3"
    },
    "accelerator": "GPU"
  },
  "cells": [
    {
      "cell_type": "code",
      "metadata": {
        "id": "IWcv-yEIf6A4",
        "colab": {
          "base_uri": "https://localhost:8080/"
        },
        "outputId": "ad4550e4-0056-41f0-eaa5-1f5ff1407d12"
      },
      "source": [
        "#import libraries\n",
        "!pip install yfinance \n",
        "import numpy as np\n",
        "import pandas as pd\n",
        "import pandas_datareader as web\n",
        "import math\n",
        "import matplotlib.pyplot as plt\n",
        "from sklearn.preprocessing import StandardScaler\n",
        "import tensorflow as tf\n",
        "from keras.models import Sequential\n",
        "from keras.layers import Dense, LSTM\n",
        "plt.style.use('fivethirtyeight')\n",
        "import yfinance  as yf"
      ],
      "execution_count": null,
      "outputs": [
        {
          "output_type": "stream",
          "name": "stdout",
          "text": [
            "Collecting yfinance\n",
            "  Downloading yfinance-0.1.68-py2.py3-none-any.whl (26 kB)\n",
            "Collecting lxml>=4.5.1\n",
            "  Downloading lxml-4.7.1-cp37-cp37m-manylinux_2_17_x86_64.manylinux2014_x86_64.manylinux_2_24_x86_64.whl (6.4 MB)\n",
            "\u001b[K     |████████████████████████████████| 6.4 MB 5.8 MB/s \n",
            "\u001b[?25hRequirement already satisfied: numpy>=1.15 in /usr/local/lib/python3.7/dist-packages (from yfinance) (1.19.5)\n",
            "Collecting requests>=2.26\n",
            "  Downloading requests-2.27.1-py2.py3-none-any.whl (63 kB)\n",
            "\u001b[K     |████████████████████████████████| 63 kB 1.7 MB/s \n",
            "\u001b[?25hRequirement already satisfied: pandas>=0.24 in /usr/local/lib/python3.7/dist-packages (from yfinance) (1.1.5)\n",
            "Requirement already satisfied: multitasking>=0.0.7 in /usr/local/lib/python3.7/dist-packages (from yfinance) (0.0.10)\n",
            "Requirement already satisfied: python-dateutil>=2.7.3 in /usr/local/lib/python3.7/dist-packages (from pandas>=0.24->yfinance) (2.8.2)\n",
            "Requirement already satisfied: pytz>=2017.2 in /usr/local/lib/python3.7/dist-packages (from pandas>=0.24->yfinance) (2018.9)\n",
            "Requirement already satisfied: six>=1.5 in /usr/local/lib/python3.7/dist-packages (from python-dateutil>=2.7.3->pandas>=0.24->yfinance) (1.15.0)\n",
            "Requirement already satisfied: charset-normalizer~=2.0.0 in /usr/local/lib/python3.7/dist-packages (from requests>=2.26->yfinance) (2.0.10)\n",
            "Requirement already satisfied: urllib3<1.27,>=1.21.1 in /usr/local/lib/python3.7/dist-packages (from requests>=2.26->yfinance) (1.24.3)\n",
            "Requirement already satisfied: certifi>=2017.4.17 in /usr/local/lib/python3.7/dist-packages (from requests>=2.26->yfinance) (2021.10.8)\n",
            "Requirement already satisfied: idna<4,>=2.5 in /usr/local/lib/python3.7/dist-packages (from requests>=2.26->yfinance) (2.10)\n",
            "Installing collected packages: requests, lxml, yfinance\n",
            "  Attempting uninstall: requests\n",
            "    Found existing installation: requests 2.23.0\n",
            "    Uninstalling requests-2.23.0:\n",
            "      Successfully uninstalled requests-2.23.0\n",
            "  Attempting uninstall: lxml\n",
            "    Found existing installation: lxml 4.2.6\n",
            "    Uninstalling lxml-4.2.6:\n",
            "      Successfully uninstalled lxml-4.2.6\n",
            "\u001b[31mERROR: pip's dependency resolver does not currently take into account all the packages that are installed. This behaviour is the source of the following dependency conflicts.\n",
            "google-colab 1.0.0 requires requests~=2.23.0, but you have requests 2.27.1 which is incompatible.\n",
            "datascience 0.10.6 requires folium==0.2.1, but you have folium 0.8.3 which is incompatible.\u001b[0m\n",
            "Successfully installed lxml-4.7.1 requests-2.27.1 yfinance-0.1.68\n"
          ]
        }
      ]
    },
    {
      "cell_type": "code",
      "metadata": {
        "id": "Rq6fw3bMga4E",
        "colab": {
          "base_uri": "https://localhost:8080/",
          "height": 689
        },
        "outputId": "71714011-a85a-402a-bb35-3751dfa082d2"
      },
      "source": [
        "#getting the stocks datasets\n",
        "\n",
        "# tickerSymbol = 'AAPL' #apple\n",
        "tickerSymbol = 'TCS'\n",
        "\n",
        "#get data on this ticker\n",
        "\n",
        "tickerData = yf.Ticker(tickerSymbol) #get the stock data using ticker\n",
        "\n",
        "#get the historical prices for this ticker\n",
        "\n",
        "df = tickerData.history(period='1d', start='2010-1-1', end='2022-12-25')\n",
        "\n",
        "#show the dataset\n",
        "df"
      ],
      "execution_count": null,
      "outputs": [
        {
          "output_type": "execute_result",
          "data": {
            "text/html": [
              "\n",
              "  <div id=\"df-4d64d809-a06b-45d2-aac7-88fd1935f478\">\n",
              "    <div class=\"colab-df-container\">\n",
              "      <div>\n",
              "<style scoped>\n",
              "    .dataframe tbody tr th:only-of-type {\n",
              "        vertical-align: middle;\n",
              "    }\n",
              "\n",
              "    .dataframe tbody tr th {\n",
              "        vertical-align: top;\n",
              "    }\n",
              "\n",
              "    .dataframe thead th {\n",
              "        text-align: right;\n",
              "    }\n",
              "</style>\n",
              "<table border=\"1\" class=\"dataframe\">\n",
              "  <thead>\n",
              "    <tr style=\"text-align: right;\">\n",
              "      <th></th>\n",
              "      <th>Open</th>\n",
              "      <th>High</th>\n",
              "      <th>Low</th>\n",
              "      <th>Close</th>\n",
              "      <th>Volume</th>\n",
              "      <th>Dividends</th>\n",
              "      <th>Stock Splits</th>\n",
              "    </tr>\n",
              "    <tr>\n",
              "      <th>Date</th>\n",
              "      <th></th>\n",
              "      <th></th>\n",
              "      <th></th>\n",
              "      <th></th>\n",
              "      <th></th>\n",
              "      <th></th>\n",
              "      <th></th>\n",
              "    </tr>\n",
              "  </thead>\n",
              "  <tbody>\n",
              "    <tr>\n",
              "      <th>2013-11-01</th>\n",
              "      <td>32.717391</td>\n",
              "      <td>34.586956</td>\n",
              "      <td>30.006520</td>\n",
              "      <td>33.839130</td>\n",
              "      <td>14667600</td>\n",
              "      <td>0.0</td>\n",
              "      <td>0</td>\n",
              "    </tr>\n",
              "    <tr>\n",
              "      <th>2013-11-04</th>\n",
              "      <td>34.399999</td>\n",
              "      <td>34.399999</td>\n",
              "      <td>32.427607</td>\n",
              "      <td>33.044563</td>\n",
              "      <td>1586600</td>\n",
              "      <td>0.0</td>\n",
              "      <td>0</td>\n",
              "    </tr>\n",
              "    <tr>\n",
              "      <th>2013-11-05</th>\n",
              "      <td>32.820217</td>\n",
              "      <td>33.184782</td>\n",
              "      <td>32.549130</td>\n",
              "      <td>33.044563</td>\n",
              "      <td>337700</td>\n",
              "      <td>0.0</td>\n",
              "      <td>0</td>\n",
              "    </tr>\n",
              "    <tr>\n",
              "      <th>2013-11-06</th>\n",
              "      <td>33.287609</td>\n",
              "      <td>34.110219</td>\n",
              "      <td>33.287609</td>\n",
              "      <td>33.558697</td>\n",
              "      <td>549600</td>\n",
              "      <td>0.0</td>\n",
              "      <td>0</td>\n",
              "    </tr>\n",
              "    <tr>\n",
              "      <th>2013-11-07</th>\n",
              "      <td>34.400000</td>\n",
              "      <td>34.400000</td>\n",
              "      <td>31.894782</td>\n",
              "      <td>33.007175</td>\n",
              "      <td>883700</td>\n",
              "      <td>0.0</td>\n",
              "      <td>0</td>\n",
              "    </tr>\n",
              "    <tr>\n",
              "      <th>...</th>\n",
              "      <td>...</td>\n",
              "      <td>...</td>\n",
              "      <td>...</td>\n",
              "      <td>...</td>\n",
              "      <td>...</td>\n",
              "      <td>...</td>\n",
              "      <td>...</td>\n",
              "    </tr>\n",
              "    <tr>\n",
              "      <th>2022-01-05</th>\n",
              "      <td>11.490000</td>\n",
              "      <td>11.490000</td>\n",
              "      <td>10.920000</td>\n",
              "      <td>10.990000</td>\n",
              "      <td>944100</td>\n",
              "      <td>0.0</td>\n",
              "      <td>0</td>\n",
              "    </tr>\n",
              "    <tr>\n",
              "      <th>2022-01-06</th>\n",
              "      <td>11.260000</td>\n",
              "      <td>11.580000</td>\n",
              "      <td>11.020000</td>\n",
              "      <td>11.350000</td>\n",
              "      <td>633500</td>\n",
              "      <td>0.0</td>\n",
              "      <td>0</td>\n",
              "    </tr>\n",
              "    <tr>\n",
              "      <th>2022-01-07</th>\n",
              "      <td>11.300000</td>\n",
              "      <td>11.550000</td>\n",
              "      <td>11.090000</td>\n",
              "      <td>11.200000</td>\n",
              "      <td>515700</td>\n",
              "      <td>0.0</td>\n",
              "      <td>0</td>\n",
              "    </tr>\n",
              "    <tr>\n",
              "      <th>2022-01-10</th>\n",
              "      <td>11.070000</td>\n",
              "      <td>11.080000</td>\n",
              "      <td>10.770000</td>\n",
              "      <td>10.860000</td>\n",
              "      <td>756100</td>\n",
              "      <td>0.0</td>\n",
              "      <td>0</td>\n",
              "    </tr>\n",
              "    <tr>\n",
              "      <th>2022-01-11</th>\n",
              "      <td>11.000000</td>\n",
              "      <td>11.090000</td>\n",
              "      <td>10.740000</td>\n",
              "      <td>11.000000</td>\n",
              "      <td>637800</td>\n",
              "      <td>0.0</td>\n",
              "      <td>0</td>\n",
              "    </tr>\n",
              "  </tbody>\n",
              "</table>\n",
              "<p>2063 rows × 7 columns</p>\n",
              "</div>\n",
              "      <button class=\"colab-df-convert\" onclick=\"convertToInteractive('df-4d64d809-a06b-45d2-aac7-88fd1935f478')\"\n",
              "              title=\"Convert this dataframe to an interactive table.\"\n",
              "              style=\"display:none;\">\n",
              "        \n",
              "  <svg xmlns=\"http://www.w3.org/2000/svg\" height=\"24px\"viewBox=\"0 0 24 24\"\n",
              "       width=\"24px\">\n",
              "    <path d=\"M0 0h24v24H0V0z\" fill=\"none\"/>\n",
              "    <path d=\"M18.56 5.44l.94 2.06.94-2.06 2.06-.94-2.06-.94-.94-2.06-.94 2.06-2.06.94zm-11 1L8.5 8.5l.94-2.06 2.06-.94-2.06-.94L8.5 2.5l-.94 2.06-2.06.94zm10 10l.94 2.06.94-2.06 2.06-.94-2.06-.94-.94-2.06-.94 2.06-2.06.94z\"/><path d=\"M17.41 7.96l-1.37-1.37c-.4-.4-.92-.59-1.43-.59-.52 0-1.04.2-1.43.59L10.3 9.45l-7.72 7.72c-.78.78-.78 2.05 0 2.83L4 21.41c.39.39.9.59 1.41.59.51 0 1.02-.2 1.41-.59l7.78-7.78 2.81-2.81c.8-.78.8-2.07 0-2.86zM5.41 20L4 18.59l7.72-7.72 1.47 1.35L5.41 20z\"/>\n",
              "  </svg>\n",
              "      </button>\n",
              "      \n",
              "  <style>\n",
              "    .colab-df-container {\n",
              "      display:flex;\n",
              "      flex-wrap:wrap;\n",
              "      gap: 12px;\n",
              "    }\n",
              "\n",
              "    .colab-df-convert {\n",
              "      background-color: #E8F0FE;\n",
              "      border: none;\n",
              "      border-radius: 50%;\n",
              "      cursor: pointer;\n",
              "      display: none;\n",
              "      fill: #1967D2;\n",
              "      height: 32px;\n",
              "      padding: 0 0 0 0;\n",
              "      width: 32px;\n",
              "    }\n",
              "\n",
              "    .colab-df-convert:hover {\n",
              "      background-color: #E2EBFA;\n",
              "      box-shadow: 0px 1px 2px rgba(60, 64, 67, 0.3), 0px 1px 3px 1px rgba(60, 64, 67, 0.15);\n",
              "      fill: #174EA6;\n",
              "    }\n",
              "\n",
              "    [theme=dark] .colab-df-convert {\n",
              "      background-color: #3B4455;\n",
              "      fill: #D2E3FC;\n",
              "    }\n",
              "\n",
              "    [theme=dark] .colab-df-convert:hover {\n",
              "      background-color: #434B5C;\n",
              "      box-shadow: 0px 1px 3px 1px rgba(0, 0, 0, 0.15);\n",
              "      filter: drop-shadow(0px 1px 2px rgba(0, 0, 0, 0.3));\n",
              "      fill: #FFFFFF;\n",
              "    }\n",
              "  </style>\n",
              "\n",
              "      <script>\n",
              "        const buttonEl =\n",
              "          document.querySelector('#df-4d64d809-a06b-45d2-aac7-88fd1935f478 button.colab-df-convert');\n",
              "        buttonEl.style.display =\n",
              "          google.colab.kernel.accessAllowed ? 'block' : 'none';\n",
              "\n",
              "        async function convertToInteractive(key) {\n",
              "          const element = document.querySelector('#df-4d64d809-a06b-45d2-aac7-88fd1935f478');\n",
              "          const dataTable =\n",
              "            await google.colab.kernel.invokeFunction('convertToInteractive',\n",
              "                                                     [key], {});\n",
              "          if (!dataTable) return;\n",
              "\n",
              "          const docLinkHtml = 'Like what you see? Visit the ' +\n",
              "            '<a target=\"_blank\" href=https://colab.research.google.com/notebooks/data_table.ipynb>data table notebook</a>'\n",
              "            + ' to learn more about interactive tables.';\n",
              "          element.innerHTML = '';\n",
              "          dataTable['output_type'] = 'display_data';\n",
              "          await google.colab.output.renderOutput(dataTable, element);\n",
              "          const docLink = document.createElement('div');\n",
              "          docLink.innerHTML = docLinkHtml;\n",
              "          element.appendChild(docLink);\n",
              "        }\n",
              "      </script>\n",
              "    </div>\n",
              "  </div>\n",
              "  "
            ],
            "text/plain": [
              "                 Open       High        Low  ...    Volume  Dividends  Stock Splits\n",
              "Date                                         ...                                   \n",
              "2013-11-01  32.717391  34.586956  30.006520  ...  14667600        0.0             0\n",
              "2013-11-04  34.399999  34.399999  32.427607  ...   1586600        0.0             0\n",
              "2013-11-05  32.820217  33.184782  32.549130  ...    337700        0.0             0\n",
              "2013-11-06  33.287609  34.110219  33.287609  ...    549600        0.0             0\n",
              "2013-11-07  34.400000  34.400000  31.894782  ...    883700        0.0             0\n",
              "...               ...        ...        ...  ...       ...        ...           ...\n",
              "2022-01-05  11.490000  11.490000  10.920000  ...    944100        0.0             0\n",
              "2022-01-06  11.260000  11.580000  11.020000  ...    633500        0.0             0\n",
              "2022-01-07  11.300000  11.550000  11.090000  ...    515700        0.0             0\n",
              "2022-01-10  11.070000  11.080000  10.770000  ...    756100        0.0             0\n",
              "2022-01-11  11.000000  11.090000  10.740000  ...    637800        0.0             0\n",
              "\n",
              "[2063 rows x 7 columns]"
            ]
          },
          "metadata": {},
          "execution_count": 3
        }
      ]
    },
    {
      "cell_type": "code",
      "metadata": {
        "id": "ydwCsRvmhClZ",
        "colab": {
          "base_uri": "https://localhost:8080/"
        },
        "outputId": "8876bf1e-6298-4461-c490-6eb84ce21414"
      },
      "source": [
        "df.shape"
      ],
      "execution_count": null,
      "outputs": [
        {
          "output_type": "execute_result",
          "data": {
            "text/plain": [
              "(2063, 7)"
            ]
          },
          "metadata": {},
          "execution_count": 4
        }
      ]
    },
    {
      "cell_type": "code",
      "metadata": {
        "id": "ghWYKftihSuL",
        "colab": {
          "base_uri": "https://localhost:8080/",
          "height": 339
        },
        "outputId": "c80fcd5c-8b2e-4b35-faa3-bcbb7fa62d89"
      },
      "source": [
        "#visualize the closing prices\n",
        "plt.figure(figsize=(16,8))\n",
        "plt.title('closing price of TCS')\n",
        "plt.plot(df['Close'])\n",
        "plt.xlabel('Date')\n",
        "plt.ylabel('Closing price')\n",
        "plt.show()"
      ],
      "execution_count": null,
      "outputs": [
        {
          "output_type": "display_data",
          "data": {
            "image/png": "[encoded data removed]",
            "text/plain": [
              "<Figure size 1152x576 with 1 Axes>"
            ]
          },
          "metadata": {}
        }
      ]
    },
    {
      "cell_type": "code",
      "metadata": {
        "id": "zkxOpxhlhzmA",
        "colab": {
          "base_uri": "https://localhost:8080/"
        },
        "outputId": "0ac81b36-3646-4b36-f191-28dc98b0ec95"
      },
      "source": [
        "#create new database with only required coloumns\n",
        "data=df.filter(['Close'])\n",
        "#convert the dataframe to numpy array\n",
        "dataset=data.values\n",
        "#get the number of rows to train 80 percent\n",
        "training_data_len=math.ceil(len(dataset)*0.8)\n",
        "training_data_len"
      ],
      "execution_count": null,
      "outputs": [
        {
          "output_type": "execute_result",
          "data": {
            "text/plain": [
              "1651"
            ]
          },
          "metadata": {},
          "execution_count": 6
        }
      ]
    },
    {
      "cell_type": "code",
      "metadata": {
        "id": "sLyctyWBjgPN",
        "colab": {
          "base_uri": "https://localhost:8080/"
        },
        "outputId": "57132f87-4508-46c6-ba63-f4193db394e1"
      },
      "source": [
        "#scale the data\n",
        "scaler=StandardScaler()\n",
        "#y = (x – mean) / standard_deviation\n",
        "# It makes total mean =0\n",
        "# and data to unit deviation \n",
        "scaled_data=scaler.fit_transform(dataset)\n",
        "print(\"MEAN of processed data: \",scaled_data.mean())\n",
        "print(\"Standard deviation of processed data: \",scaled_data.std())"
      ],
      "execution_count": null,
      "outputs": [
        {
          "output_type": "stream",
          "name": "stdout",
          "text": [
            "MEAN of processed data:  -1.1021506322987497e-16\n",
            "Standard deviation of processed data:  0.9999999999999999\n"
          ]
        }
      ]
    },
    {
      "cell_type": "code",
      "metadata": {
        "id": "Fo35RfT2kB_Q"
      },
      "source": [
        "#create the training data\n",
        "#create scaled training dataset\n",
        "train_data = scaled_data[0:training_data_len, :]\n",
        "#split the data to x_train and y_train\n",
        "x_train=[]\n",
        "y_train=[]\n",
        "for i in range(60,len(train_data)):\n",
        "  x_train.append(train_data[i-60:i])\n",
        "  y_train.append(train_data[i])"
      ],
      "execution_count": null,
      "outputs": []
    },
    {
      "cell_type": "code",
      "metadata": {
        "id": "fTXFifMjldIh",
        "colab": {
          "base_uri": "https://localhost:8080/"
        },
        "outputId": "51aec2fa-8894-4797-c10e-082e4b73faf4"
      },
      "source": [
        "#convert x_train and y_train into numpy arrays\n",
        "x_train,y_train=np.array(x_train),np.array(y_train)\n",
        "x_train.shape"
      ],
      "execution_count": null,
      "outputs": [
        {
          "output_type": "execute_result",
          "data": {
            "text/plain": [
              "(1591, 60, 1)"
            ]
          },
          "metadata": {},
          "execution_count": 13
        }
      ]
    },
    {
      "cell_type": "code",
      "metadata": {
        "id": "GQ6D0Bjzlw6C",
        "colab": {
          "base_uri": "https://localhost:8080/"
        },
        "outputId": "3d477db8-ff75-4497-867e-f7eb48498068"
      },
      "source": [
        "#reshape the data\n",
        "print(\"x_train shape before reshaping\",x_train.shape)\n",
        "x_train = np.reshape(x_train,(x_train.shape[0],x_train.shape[1],1)) #np.reshape(x_train,(x_train.shape[0],x_train.shape[1],1))\n",
        "print(\"x_train shape after reshaping\",x_train.shape)"
      ],
      "execution_count": null,
      "outputs": [
        {
          "output_type": "stream",
          "name": "stdout",
          "text": [
            "x_train shape before reshaping (1591, 60, 1)\n",
            "x_train shape after reshaping (1591, 60, 1)\n"
          ]
        }
      ]
    },
    {
      "cell_type": "code",
      "metadata": {
        "id": "VBzgFpWF12x1"
      },
      "source": [
        "#build LSTM model\n",
        "model= Sequential()\n",
        "model.add(LSTM(200,return_sequences=True,input_shape=(x_train.shape[1], 1)))\n",
        "model.add(LSTM(200,return_sequences=False))\n",
        "model.add(Dense(100))\n",
        "model.add(Dense(50))\n",
        "model.add(Dense(1)) "
      ],
      "execution_count": null,
      "outputs": []
    },
    {
      "cell_type": "code",
      "metadata": {
        "id": "yVAtKLo01299"
      },
      "source": [
        "#compile the model\n",
        "model.compile(optimizer='adam',loss='mean_squared_error')"
      ],
      "execution_count": null,
      "outputs": []
    },
    {
      "cell_type": "code",
      "source": [
        "model.summary()"
      ],
      "metadata": {
        "colab": {
          "base_uri": "https://localhost:8080/"
        },
        "id": "FIJl_DG2fGyX",
        "outputId": "094b7c03-9033-4ede-96f7-58287f5628f7"
      },
      "execution_count": null,
      "outputs": [
        {
          "output_type": "stream",
          "name": "stdout",
          "text": [
            "Model: \"sequential\"\n",
            "_________________________________________________________________\n",
            " Layer (type)                Output Shape              Param #   \n",
            "=================================================================\n",
            " lstm (LSTM)                 (None, 60, 200)           161600    \n",
            "                                                                 \n",
            " lstm_1 (LSTM)               (None, 200)               320800    \n",
            "                                                                 \n",
            " dense (Dense)               (None, 100)               20100     \n",
            "                                                                 \n",
            " dense_1 (Dense)             (None, 50)                5050      \n",
            "                                                                 \n",
            " dense_2 (Dense)             (None, 1)                 51        \n",
            "                                                                 \n",
            "=================================================================\n",
            "Total params: 507,601\n",
            "Trainable params: 507,601\n",
            "Non-trainable params: 0\n",
            "_________________________________________________________________\n"
          ]
        }
      ]
    },
    {
      "cell_type": "code",
      "metadata": {
        "id": "49ZW1GxM13Jv",
        "colab": {
          "base_uri": "https://localhost:8080/"
        },
        "outputId": "1b9f21b0-2f2e-4776-e89f-db8c4f8f26e0"
      },
      "source": [
        "#train the model\n",
        "history = model.fit(x_train,y_train,epochs=20)"
      ],
      "execution_count": null,
      "outputs": [
        {
          "output_type": "stream",
          "name": "stdout",
          "text": [
            "Epoch 1/20\n",
            "50/50 [==============================] - 9s 42ms/step - loss: 0.0378\n",
            "Epoch 2/20\n",
            "50/50 [==============================] - 2s 36ms/step - loss: 0.0118\n",
            "Epoch 3/20\n",
            "50/50 [==============================] - 2s 35ms/step - loss: 0.0082\n",
            "Epoch 4/20\n",
            "50/50 [==============================] - 2s 34ms/step - loss: 0.0074\n",
            "Epoch 5/20\n",
            "50/50 [==============================] - 2s 34ms/step - loss: 0.0066\n",
            "Epoch 6/20\n",
            "50/50 [==============================] - 2s 33ms/step - loss: 0.0059\n",
            "Epoch 7/20\n",
            "50/50 [==============================] - 2s 33ms/step - loss: 0.0060\n",
            "Epoch 8/20\n",
            "50/50 [==============================] - 2s 33ms/step - loss: 0.0067\n",
            "Epoch 9/20\n",
            "50/50 [==============================] - 2s 33ms/step - loss: 0.0060\n",
            "Epoch 10/20\n",
            "50/50 [==============================] - 2s 32ms/step - loss: 0.0047\n",
            "Epoch 11/20\n",
            "50/50 [==============================] - 2s 32ms/step - loss: 0.0044\n",
            "Epoch 12/20\n",
            "50/50 [==============================] - 2s 32ms/step - loss: 0.0042\n",
            "Epoch 13/20\n",
            "50/50 [==============================] - 2s 31ms/step - loss: 0.0053\n",
            "Epoch 14/20\n",
            "50/50 [==============================] - 2s 32ms/step - loss: 0.0037\n",
            "Epoch 15/20\n",
            "50/50 [==============================] - 2s 32ms/step - loss: 0.0035\n",
            "Epoch 16/20\n",
            "50/50 [==============================] - 2s 32ms/step - loss: 0.0040\n",
            "Epoch 17/20\n",
            "50/50 [==============================] - 2s 32ms/step - loss: 0.0035\n",
            "Epoch 18/20\n",
            "50/50 [==============================] - 2s 32ms/step - loss: 0.0035\n",
            "Epoch 19/20\n",
            "50/50 [==============================] - 2s 32ms/step - loss: 0.0030\n",
            "Epoch 20/20\n",
            "50/50 [==============================] - 2s 32ms/step - loss: 0.0030\n"
          ]
        }
      ]
    },
    {
      "cell_type": "code",
      "source": [
        "plt.plot(history.history['loss'])"
      ],
      "metadata": {
        "colab": {
          "base_uri": "https://localhost:8080/",
          "height": 279
        },
        "id": "mM_VSVNFWBSw",
        "outputId": "1cff32d2-2b09-4cec-e487-5dc68b432588"
      },
      "execution_count": null,
      "outputs": [
        {
          "output_type": "execute_result",
          "data": {
            "text/plain": [
              "[<matplotlib.lines.Line2D at 0x7f34c3eb2810>]"
            ]
          },
          "metadata": {},
          "execution_count": 14
        },
        {
          "output_type": "display_data",
          "data": {
            "image/png": "[encoded data removed]",
            "text/plain": [
              "<Figure size 432x288 with 1 Axes>"
            ]
          },
          "metadata": {
            "needs_background": "light"
          }
        }
      ]
    },
    {
      "cell_type": "code",
      "metadata": {
        "id": "ALXAJAPZojcf"
      },
      "source": [
        "#create the testing dataset\n",
        "#createt new array\n",
        "test_data=scaled_data[training_data_len-60:, :]\n",
        "#create the dataset x_test and y_test\n",
        "x_test=[]\n",
        "y_test=dataset[training_data_len: , :]\n",
        "for i in range(60,len(test_data)):\n",
        "  x_test.append(test_data[i-60:i, 0])"
      ],
      "execution_count": null,
      "outputs": []
    },
    {
      "cell_type": "code",
      "metadata": {
        "id": "-dhWbGB0pnYz"
      },
      "source": [
        "#convert the data to numpy \n",
        "x_test=np.array(x_test)"
      ],
      "execution_count": null,
      "outputs": []
    },
    {
      "cell_type": "code",
      "metadata": {
        "id": "eErFj0j6pv7b"
      },
      "source": [
        "#reshape the data\n",
        "x_test=np.reshape(x_test,(x_test.shape[0],x_test.shape[1],1))"
      ],
      "execution_count": null,
      "outputs": []
    },
    {
      "cell_type": "code",
      "metadata": {
        "id": "OgbP_Sefp-zQ"
      },
      "source": [
        "#get the model predicted value\n",
        "predictions =model.predict(x_test)\n",
        "predictions=scaler.inverse_transform(predictions)\n",
        "# print(predictions)"
      ],
      "execution_count": null,
      "outputs": []
    },
    {
      "cell_type": "markdown",
      "source": [
        "![image.png](data:image/png;base64,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)"
      ],
      "metadata": {
        "id": "W5DTZ3bLdM5g"
      }
    },
    {
      "cell_type": "code",
      "metadata": {
        "id": "RKUZ-XK0qtVX",
        "colab": {
          "base_uri": "https://localhost:8080/"
        },
        "outputId": "30307a25-afd1-4e8a-da29-b3b1b852752e"
      },
      "source": [
        "#geting the root_mean_squared error(RMSE)\n",
        "from sklearn.metrics import mean_squared_error\n",
        "rmse=np.sqrt(mean_squared_error(y_test, predictions))\n",
        "rmse"
      ],
      "execution_count": null,
      "outputs": [
        {
          "output_type": "execute_result",
          "data": {
            "text/plain": [
              "0.5069118321383526"
            ]
          },
          "metadata": {},
          "execution_count": 19
        }
      ]
    },
    {
      "cell_type": "code",
      "metadata": {
        "id": "iJQS0nforL_M",
        "colab": {
          "base_uri": "https://localhost:8080/"
        },
        "outputId": "037b7ebf-1bae-4256-e5bd-798f55ed8c17"
      },
      "source": [
        "#plot the data\n",
        "train=data[:training_data_len]\n",
        "valid=data[training_data_len:]\n",
        "valid['Predictions']=predictions"
      ],
      "execution_count": null,
      "outputs": [
        {
          "output_type": "stream",
          "name": "stderr",
          "text": [
            "/usr/local/lib/python3.7/dist-packages/ipykernel_launcher.py:4: SettingWithCopyWarning: \n",
            "A value is trying to be set on a copy of a slice from a DataFrame.\n",
            "Try using .loc[row_indexer,col_indexer] = value instead\n",
            "\n",
            "See the caveats in the documentation: https://pandas.pydata.org/pandas-docs/stable/user_guide/indexing.html#returning-a-view-versus-a-copy\n",
            "  after removing the cwd from sys.path.\n"
          ]
        }
      ]
    },
    {
      "cell_type": "code",
      "metadata": {
        "id": "E1Z3wVgerg6b",
        "colab": {
          "base_uri": "https://localhost:8080/",
          "height": 315
        },
        "outputId": "5396cf9d-9447-4f0b-9a04-7bda410499eb"
      },
      "source": [
        "#visualize the data\n",
        "plt.figure(figsize=(16,8))\n",
        "plt.title('Model')\n",
        "plt.xlabel('Data')\n",
        "plt.ylabel('Close prise INR')\n",
        "plt.plot(train['Close'])\n",
        "plt.plot(valid[['Close','Predictions']])\n",
        "plt.legend(['Train','Test','Predictions'],loc='lower right')\n",
        "plt.show()"
      ],
      "execution_count": null,
      "outputs": [
        {
          "output_type": "display_data",
          "data": {
            "image/png": "[encoded data removed]",
            "text/plain": [
              "<Figure size 1152x576 with 1 Axes>"
            ]
          },
          "metadata": {
            "needs_background": "light"
          }
        }
      ]
    },
    {
      "cell_type": "code",
      "metadata": {
        "id": "KjNhZIU_sFLr",
        "colab": {
          "base_uri": "https://localhost:8080/",
          "height": 455
        },
        "outputId": "eca2b2f8-20d8-48e3-8e5f-c0ded6e7a2c3"
      },
      "source": [
        "#show the valid and predicted value\n",
        "valid"
      ],
      "execution_count": null,
      "outputs": [
        {
          "output_type": "execute_result",
          "data": {
            "text/html": [
              "\n",
              "  <div id=\"df-f32a3db3-f68e-4fb6-a29d-159d69792785\">\n",
              "    <div class=\"colab-df-container\">\n",
              "      <div>\n",
              "<style scoped>\n",
              "    .dataframe tbody tr th:only-of-type {\n",
              "        vertical-align: middle;\n",
              "    }\n",
              "\n",
              "    .dataframe tbody tr th {\n",
              "        vertical-align: top;\n",
              "    }\n",
              "\n",
              "    .dataframe thead th {\n",
              "        text-align: right;\n",
              "    }\n",
              "</style>\n",
              "<table border=\"1\" class=\"dataframe\">\n",
              "  <thead>\n",
              "    <tr style=\"text-align: right;\">\n",
              "      <th></th>\n",
              "      <th>Close</th>\n",
              "      <th>Predictions</th>\n",
              "    </tr>\n",
              "    <tr>\n",
              "      <th>Date</th>\n",
              "      <th></th>\n",
              "      <th></th>\n",
              "    </tr>\n",
              "  </thead>\n",
              "  <tbody>\n",
              "    <tr>\n",
              "      <th>2020-05-27</th>\n",
              "      <td>3.02</td>\n",
              "      <td>2.500475</td>\n",
              "    </tr>\n",
              "    <tr>\n",
              "      <th>2020-05-28</th>\n",
              "      <td>2.83</td>\n",
              "      <td>2.834696</td>\n",
              "    </tr>\n",
              "    <tr>\n",
              "      <th>2020-05-29</th>\n",
              "      <td>2.85</td>\n",
              "      <td>2.947940</td>\n",
              "    </tr>\n",
              "    <tr>\n",
              "      <th>2020-06-01</th>\n",
              "      <td>3.03</td>\n",
              "      <td>2.968672</td>\n",
              "    </tr>\n",
              "    <tr>\n",
              "      <th>2020-06-02</th>\n",
              "      <td>2.99</td>\n",
              "      <td>3.041132</td>\n",
              "    </tr>\n",
              "    <tr>\n",
              "      <th>...</th>\n",
              "      <td>...</td>\n",
              "      <td>...</td>\n",
              "    </tr>\n",
              "    <tr>\n",
              "      <th>2022-01-05</th>\n",
              "      <td>10.99</td>\n",
              "      <td>11.342563</td>\n",
              "    </tr>\n",
              "    <tr>\n",
              "      <th>2022-01-06</th>\n",
              "      <td>11.35</td>\n",
              "      <td>11.211284</td>\n",
              "    </tr>\n",
              "    <tr>\n",
              "      <th>2022-01-07</th>\n",
              "      <td>11.20</td>\n",
              "      <td>11.306164</td>\n",
              "    </tr>\n",
              "    <tr>\n",
              "      <th>2022-01-10</th>\n",
              "      <td>10.86</td>\n",
              "      <td>11.245898</td>\n",
              "    </tr>\n",
              "    <tr>\n",
              "      <th>2022-01-11</th>\n",
              "      <td>11.00</td>\n",
              "      <td>10.970909</td>\n",
              "    </tr>\n",
              "  </tbody>\n",
              "</table>\n",
              "<p>412 rows × 2 columns</p>\n",
              "</div>\n",
              "      <button class=\"colab-df-convert\" onclick=\"convertToInteractive('df-f32a3db3-f68e-4fb6-a29d-159d69792785')\"\n",
              "              title=\"Convert this dataframe to an interactive table.\"\n",
              "              style=\"display:none;\">\n",
              "        \n",
              "  <svg xmlns=\"http://www.w3.org/2000/svg\" height=\"24px\"viewBox=\"0 0 24 24\"\n",
              "       width=\"24px\">\n",
              "    <path d=\"M0 0h24v24H0V0z\" fill=\"none\"/>\n",
              "    <path d=\"M18.56 5.44l.94 2.06.94-2.06 2.06-.94-2.06-.94-.94-2.06-.94 2.06-2.06.94zm-11 1L8.5 8.5l.94-2.06 2.06-.94-2.06-.94L8.5 2.5l-.94 2.06-2.06.94zm10 10l.94 2.06.94-2.06 2.06-.94-2.06-.94-.94-2.06-.94 2.06-2.06.94z\"/><path d=\"M17.41 7.96l-1.37-1.37c-.4-.4-.92-.59-1.43-.59-.52 0-1.04.2-1.43.59L10.3 9.45l-7.72 7.72c-.78.78-.78 2.05 0 2.83L4 21.41c.39.39.9.59 1.41.59.51 0 1.02-.2 1.41-.59l7.78-7.78 2.81-2.81c.8-.78.8-2.07 0-2.86zM5.41 20L4 18.59l7.72-7.72 1.47 1.35L5.41 20z\"/>\n",
              "  </svg>\n",
              "      </button>\n",
              "      \n",
              "  <style>\n",
              "    .colab-df-container {\n",
              "      display:flex;\n",
              "      flex-wrap:wrap;\n",
              "      gap: 12px;\n",
              "    }\n",
              "\n",
              "    .colab-df-convert {\n",
              "      background-color: #E8F0FE;\n",
              "      border: none;\n",
              "      border-radius: 50%;\n",
              "      cursor: pointer;\n",
              "      display: none;\n",
              "      fill: #1967D2;\n",
              "      height: 32px;\n",
              "      padding: 0 0 0 0;\n",
              "      width: 32px;\n",
              "    }\n",
              "\n",
              "    .colab-df-convert:hover {\n",
              "      background-color: #E2EBFA;\n",
              "      box-shadow: 0px 1px 2px rgba(60, 64, 67, 0.3), 0px 1px 3px 1px rgba(60, 64, 67, 0.15);\n",
              "      fill: #174EA6;\n",
              "    }\n",
              "\n",
              "    [theme=dark] .colab-df-convert {\n",
              "      background-color: #3B4455;\n",
              "      fill: #D2E3FC;\n",
              "    }\n",
              "\n",
              "    [theme=dark] .colab-df-convert:hover {\n",
              "      background-color: #434B5C;\n",
              "      box-shadow: 0px 1px 3px 1px rgba(0, 0, 0, 0.15);\n",
              "      filter: drop-shadow(0px 1px 2px rgba(0, 0, 0, 0.3));\n",
              "      fill: #FFFFFF;\n",
              "    }\n",
              "  </style>\n",
              "\n",
              "      <script>\n",
              "        const buttonEl =\n",
              "          document.querySelector('#df-f32a3db3-f68e-4fb6-a29d-159d69792785 button.colab-df-convert');\n",
              "        buttonEl.style.display =\n",
              "          google.colab.kernel.accessAllowed ? 'block' : 'none';\n",
              "\n",
              "        async function convertToInteractive(key) {\n",
              "          const element = document.querySelector('#df-f32a3db3-f68e-4fb6-a29d-159d69792785');\n",
              "          const dataTable =\n",
              "            await google.colab.kernel.invokeFunction('convertToInteractive',\n",
              "                                                     [key], {});\n",
              "          if (!dataTable) return;\n",
              "\n",
              "          const docLinkHtml = 'Like what you see? Visit the ' +\n",
              "            '<a target=\"_blank\" href=https://colab.research.google.com/notebooks/data_table.ipynb>data table notebook</a>'\n",
              "            + ' to learn more about interactive tables.';\n",
              "          element.innerHTML = '';\n",
              "          dataTable['output_type'] = 'display_data';\n",
              "          await google.colab.output.renderOutput(dataTable, element);\n",
              "          const docLink = document.createElement('div');\n",
              "          docLink.innerHTML = docLinkHtml;\n",
              "          element.appendChild(docLink);\n",
              "        }\n",
              "      </script>\n",
              "    </div>\n",
              "  </div>\n",
              "  "
            ],
            "text/plain": [
              "            Close  Predictions\n",
              "Date                          \n",
              "2020-05-27   3.02     2.500475\n",
              "2020-05-28   2.83     2.834696\n",
              "2020-05-29   2.85     2.947940\n",
              "2020-06-01   3.03     2.968672\n",
              "2020-06-02   2.99     3.041132\n",
              "...           ...          ...\n",
              "2022-01-05  10.99    11.342563\n",
              "2022-01-06  11.35    11.211284\n",
              "2022-01-07  11.20    11.306164\n",
              "2022-01-10  10.86    11.245898\n",
              "2022-01-11  11.00    10.970909\n",
              "\n",
              "[412 rows x 2 columns]"
            ]
          },
          "metadata": {},
          "execution_count": 22
        }
      ]
    },
    {
      "cell_type": "code",
      "source": [
        ""
      ],
      "metadata": {
        "id": "bDMWiZtVUH37"
      },
      "execution_count": null,
      "outputs": []
    }
  ]
}